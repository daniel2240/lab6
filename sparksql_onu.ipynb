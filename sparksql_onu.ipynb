{
 "cells": [
  {
   "cell_type": "code",
   "execution_count": 1,
   "metadata": {},
   "outputs": [
    {
     "name": "stdout",
     "output_type": "stream",
     "text": [
      "Starting Spark application\n"
     ]
    },
    {
     "data": {
      "text/html": [
       "<table>\n",
       "<tr><th>ID</th><th>YARN Application ID</th><th>Kind</th><th>State</th><th>Spark UI</th><th>Driver log</th><th>Current session?</th></tr><tr><td>0</td><td>application_1653708609120_0002</td><td>pyspark</td><td>idle</td><td><a target=\"_blank\" href=\"http://ip-172-31-52-76.ec2.internal:20888/proxy/application_1653708609120_0002/\">Link</a></td><td><a target=\"_blank\" href=\"http://ip-172-31-53-158.ec2.internal:8042/node/containerlogs/container_1653708609120_0002_01_000001/livy\">Link</a></td><td>✔</td></tr></table>"
      ],
      "text/plain": [
       "<IPython.core.display.HTML object>"
      ]
     },
     "metadata": {},
     "output_type": "display_data"
    },
    {
     "data": {
      "application/vnd.jupyter.widget-view+json": {
       "model_id": "",
       "version_major": 2,
       "version_minor": 0
      },
      "text/plain": [
       "FloatProgress(value=0.0, bar_style='info', description='Progress:', layout=Layout(height='25px', width='50%'),…"
      ]
     },
     "metadata": {},
     "output_type": "display_data"
    },
    {
     "name": "stdout",
     "output_type": "stream",
     "text": [
      "SparkSession available as 'spark'.\n"
     ]
    },
    {
     "data": {
      "application/vnd.jupyter.widget-view+json": {
       "model_id": "",
       "version_major": 2,
       "version_minor": 0
      },
      "text/plain": [
       "FloatProgress(value=0.0, bar_style='info', description='Progress:', layout=Layout(height='25px', width='50%'),…"
      ]
     },
     "metadata": {},
     "output_type": "display_data"
    }
   ],
   "source": [
    "df=spark.read.csv('s3://notebooksdgiraldo/datasets/onu/hdi/',inferSchema=True,header=True)"
   ]
  },
  {
   "cell_type": "code",
   "execution_count": 2,
   "metadata": {},
   "outputs": [
    {
     "data": {
      "application/vnd.jupyter.widget-view+json": {
       "model_id": "",
       "version_major": 2,
       "version_minor": 0
      },
      "text/plain": [
       "FloatProgress(value=0.0, bar_style='info', description='Progress:', layout=Layout(height='25px', width='50%'),…"
      ]
     },
     "metadata": {},
     "output_type": "display_data"
    },
    {
     "name": "stdout",
     "output_type": "stream",
     "text": [
      "+---+-------------+-----+------+--------+--------+-----+----+------------------------------+\n",
      "| id|      country|  hdi|lifeex|myschool|eyschool|  gni|gni2|nihdi                         |\n",
      "+---+-------------+-----+------+--------+--------+-----+----+------------------------------+\n",
      "|  1|       Norway|0.943|  81.1|    12.6|    17.3|47557|   6|                         0.975|\n",
      "|  2|    Australia|0.929|  81.9|    12.0|    18.0|34431|  16|                         0.979|\n",
      "|  3|  Netherlands| 0.91|  80.7|    11.6|    16.8|36402|   9|                         0.944|\n",
      "|  4|United States| 0.91|  78.5|    12.4|    16.0|43017|   6|                         0.931|\n",
      "|  5|  New Zealand|0.908|  80.7|    12.5|    18.0|23737|  30|                         0.978|\n",
      "|  6|       Canada|0.908|  81.0|    12.1|    16.0|35166|  10|                         0.944|\n",
      "|  7|      Ireland|0.908|  80.6|    11.6|    18.0|29322|  19|                         0.959|\n",
      "|  8|Liechtenstein|0.905|  79.6|    10.3|    14.7|83717|  -6|                         0.877|\n",
      "|  9|      Germany|0.905|  80.4|    12.2|    15.9|34854|   8|                          0.94|\n",
      "| 10|       Sweden|0.904|  81.4|    11.7|    15.7|35837|   4|                         0.936|\n",
      "+---+-------------+-----+------+--------+--------+-----+----+------------------------------+\n",
      "only showing top 10 rows"
     ]
    }
   ],
   "source": [
    "df.show(10)"
   ]
  },
  {
   "cell_type": "code",
   "execution_count": 3,
   "metadata": {},
   "outputs": [
    {
     "data": {
      "application/vnd.jupyter.widget-view+json": {
       "model_id": "",
       "version_major": 2,
       "version_minor": 0
      },
      "text/plain": [
       "FloatProgress(value=0.0, bar_style='info', description='Progress:', layout=Layout(height='25px', width='50%'),…"
      ]
     },
     "metadata": {},
     "output_type": "display_data"
    }
   ],
   "source": [
    "df.createOrReplaceTempView(\"hdi\")"
   ]
  },
  {
   "cell_type": "code",
   "execution_count": 4,
   "metadata": {},
   "outputs": [
    {
     "data": {
      "application/vnd.jupyter.widget-view+json": {
       "model_id": "",
       "version_major": 2,
       "version_minor": 0
      },
      "text/plain": [
       "FloatProgress(value=0.0, bar_style='info', description='Progress:', layout=Layout(height='25px', width='50%'),…"
      ]
     },
     "metadata": {},
     "output_type": "display_data"
    }
   ],
   "source": [
    "dfsql = spark.sql(\"select country, lifeex from hdi where lifeex > 80\")"
   ]
  },
  {
   "cell_type": "code",
   "execution_count": 5,
   "metadata": {},
   "outputs": [
    {
     "data": {
      "application/vnd.jupyter.widget-view+json": {
       "model_id": "",
       "version_major": 2,
       "version_minor": 0
      },
      "text/plain": [
       "FloatProgress(value=0.0, bar_style='info', description='Progress:', layout=Layout(height='25px', width='50%'),…"
      ]
     },
     "metadata": {},
     "output_type": "display_data"
    },
    {
     "name": "stdout",
     "output_type": "stream",
     "text": [
      "+--------------------+------+\n",
      "|             country|lifeex|\n",
      "+--------------------+------+\n",
      "|              Norway|  81.1|\n",
      "|           Australia|  81.9|\n",
      "|         Netherlands|  80.7|\n",
      "|         New Zealand|  80.7|\n",
      "|              Canada|  81.0|\n",
      "|             Ireland|  80.6|\n",
      "|             Germany|  80.4|\n",
      "|              Sweden|  81.4|\n",
      "|         Switzerland|  82.3|\n",
      "|               Japan|  83.4|\n",
      "|Hong Kong China (...|  82.8|\n",
      "|             Iceland|  81.8|\n",
      "| Korea (Republic of)|  80.6|\n",
      "|              Israel|  81.6|\n",
      "|             Austria|  80.9|\n",
      "|              France|  81.5|\n",
      "|               Spain|  81.4|\n",
      "|               Italy|  81.9|\n",
      "|           Singapore|  81.1|\n",
      "|      United Kingdom|  80.2|\n",
      "+--------------------+------+\n",
      "only showing top 20 rows"
     ]
    }
   ],
   "source": [
    "dfsql.show()"
   ]
  },
  {
   "cell_type": "code",
   "execution_count": 8,
   "metadata": {},
   "outputs": [
    {
     "data": {
      "application/vnd.jupyter.widget-view+json": {
       "model_id": "",
       "version_major": 2,
       "version_minor": 0
      },
      "text/plain": [
       "FloatProgress(value=0.0, bar_style='info', description='Progress:', layout=Layout(height='25px', width='50%'),…"
      ]
     },
     "metadata": {},
     "output_type": "display_data"
    }
   ],
   "source": [
    "#target directory \n",
    "write_uri='s3://notebooksdgiraldo/datasets/df_csv'\n",
    "dfsql.coalesce(1).write.format(\"csv\").option(\"header\",\"true\").save(write_uri)"
   ]
  },
  {
   "cell_type": "code",
   "execution_count": null,
   "metadata": {},
   "outputs": [],
   "source": []
  }
 ],
 "metadata": {
  "kernelspec": {
   "display_name": "PySpark",
   "language": "",
   "name": "pysparkkernel"
  },
  "language_info": {
   "codemirror_mode": {
    "name": "python",
    "version": 3
   },
   "mimetype": "text/x-python",
   "name": "pyspark",
   "pygments_lexer": "python3"
  }
 },
 "nbformat": 4,
 "nbformat_minor": 4
}
